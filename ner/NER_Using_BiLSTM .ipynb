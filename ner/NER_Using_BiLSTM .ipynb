{
  "nbformat": 4,
  "nbformat_minor": 0,
  "metadata": {
    "colab": {
      "name": "NER_Using_BiLSTM.ipynb",
      "provenance": [],
      "collapsed_sections": []
    },
    "kernelspec": {
      "name": "python3",
      "display_name": "Python 3"
    }
  },
  "cells": [
    {
      "cell_type": "markdown",
      "metadata": {
        "id": "51zhRnFmVc5D"
      },
      "source": [
        "For using the data from my drive to colab run this code first and go to the link which will appear, allow access and copy the code and paste in this so that you will be able to retreive the data."
      ]
    },
    {
      "cell_type": "code",
      "metadata": {
        "id": "h2j6YCPbVcAX"
      },
      "source": [
        "# Install the PyDrive wrapper & import libraries.\n",
        "# This only needs to be done once per notebook.\n",
        "!pip install -U -q PyDrive\n",
        "from pydrive.auth import GoogleAuth\n",
        "from pydrive.drive import GoogleDrive\n",
        "from google.colab import auth\n",
        "from oauth2client.client import GoogleCredentials\n",
        "\n",
        "# Authenticate and create the PyDrive client.\n",
        "# This only needs to be done once per notebook.\n",
        "auth.authenticate_user()\n",
        "gauth = GoogleAuth()\n",
        "gauth.credentials = GoogleCredentials.get_application_default()\n",
        "drive = GoogleDrive(gauth)"
      ],
      "execution_count": 1,
      "outputs": []
    },
    {
      "cell_type": "code",
      "metadata": {
        "id": "YMQppMgGVi9N",
        "outputId": "5fe2fdbf-2302-4807-86e7-f6a93d862063",
        "colab": {
          "base_uri": "https://localhost:8080/",
          "height": 34
        }
      },
      "source": [
        "link = 'https://drive.google.com/open?id=1RL4UDH-FHzVA6lT2vu9SlxqDg2x9vrD2'\n",
        "fluff, id = link.split('=')\n",
        "print (id) # Verify that you have everything after '='"
      ],
      "execution_count": 2,
      "outputs": [
        {
          "output_type": "stream",
          "text": [
            "1RL4UDH-FHzVA6lT2vu9SlxqDg2x9vrD2\n"
          ],
          "name": "stdout"
        }
      ]
    },
    {
      "cell_type": "code",
      "metadata": {
        "id": "QChS49SJV0BR"
      },
      "source": [
        "downloaded = drive.CreateFile({'id':id}) \n",
        "downloaded.GetContentFile('ner.csv')"
      ],
      "execution_count": 3,
      "outputs": []
    },
    {
      "cell_type": "markdown",
      "metadata": {
        "id": "1WtF08P_X4uJ"
      },
      "source": [
        "Now our data have been loaded in colab for use.\n",
        "\n",
        "**Import required library and functions**"
      ]
    },
    {
      "cell_type": "code",
      "metadata": {
        "id": "EObA4ggeYCF9"
      },
      "source": [
        "import numpy as np \n",
        "import pandas as pd\n",
        "\n",
        "\n",
        "import keras\n",
        "from keras.models import Sequential, Input, Model\n",
        "from keras.layers import Embedding, LSTM, Dense, Bidirectional, Dropout, TimeDistributed, Flatten\n",
        "from keras.preprocessing.sequence import pad_sequences"
      ],
      "execution_count": 4,
      "outputs": []
    },
    {
      "cell_type": "markdown",
      "metadata": {
        "id": "tpR6YuB6ZDxu"
      },
      "source": [
        "**Take a look at dataset**"
      ]
    },
    {
      "cell_type": "code",
      "metadata": {
        "id": "rQy6BlZbZJN3",
        "outputId": "71db0879-ada6-4cfb-8dd7-b6b93fe85373",
        "colab": {
          "base_uri": "https://localhost:8080/",
          "height": 275
        }
      },
      "source": [
        "df = pd.read_csv(\"ner.csv\", encoding = \"ISO-8859-1\", error_bad_lines=False)\n",
        "df.head()"
      ],
      "execution_count": 5,
      "outputs": [
        {
          "output_type": "stream",
          "text": [
            "b'Skipping line 281837: expected 25 fields, saw 34\\n'\n"
          ],
          "name": "stderr"
        },
        {
          "output_type": "execute_result",
          "data": {
            "text/html": [
              "<div>\n",
              "<style scoped>\n",
              "    .dataframe tbody tr th:only-of-type {\n",
              "        vertical-align: middle;\n",
              "    }\n",
              "\n",
              "    .dataframe tbody tr th {\n",
              "        vertical-align: top;\n",
              "    }\n",
              "\n",
              "    .dataframe thead th {\n",
              "        text-align: right;\n",
              "    }\n",
              "</style>\n",
              "<table border=\"1\" class=\"dataframe\">\n",
              "  <thead>\n",
              "    <tr style=\"text-align: right;\">\n",
              "      <th></th>\n",
              "      <th>Unnamed: 0</th>\n",
              "      <th>lemma</th>\n",
              "      <th>next-lemma</th>\n",
              "      <th>next-next-lemma</th>\n",
              "      <th>next-next-pos</th>\n",
              "      <th>next-next-shape</th>\n",
              "      <th>next-next-word</th>\n",
              "      <th>next-pos</th>\n",
              "      <th>next-shape</th>\n",
              "      <th>next-word</th>\n",
              "      <th>pos</th>\n",
              "      <th>prev-iob</th>\n",
              "      <th>prev-lemma</th>\n",
              "      <th>prev-pos</th>\n",
              "      <th>prev-prev-iob</th>\n",
              "      <th>prev-prev-lemma</th>\n",
              "      <th>prev-prev-pos</th>\n",
              "      <th>prev-prev-shape</th>\n",
              "      <th>prev-prev-word</th>\n",
              "      <th>prev-shape</th>\n",
              "      <th>prev-word</th>\n",
              "      <th>sentence_idx</th>\n",
              "      <th>shape</th>\n",
              "      <th>word</th>\n",
              "      <th>tag</th>\n",
              "    </tr>\n",
              "  </thead>\n",
              "  <tbody>\n",
              "    <tr>\n",
              "      <th>0</th>\n",
              "      <td>0</td>\n",
              "      <td>thousand</td>\n",
              "      <td>of</td>\n",
              "      <td>demonstr</td>\n",
              "      <td>NNS</td>\n",
              "      <td>lowercase</td>\n",
              "      <td>demonstrators</td>\n",
              "      <td>IN</td>\n",
              "      <td>lowercase</td>\n",
              "      <td>of</td>\n",
              "      <td>NNS</td>\n",
              "      <td>__START1__</td>\n",
              "      <td>__start1__</td>\n",
              "      <td>__START1__</td>\n",
              "      <td>__START2__</td>\n",
              "      <td>__start2__</td>\n",
              "      <td>__START2__</td>\n",
              "      <td>wildcard</td>\n",
              "      <td>__START2__</td>\n",
              "      <td>wildcard</td>\n",
              "      <td>__START1__</td>\n",
              "      <td>1.0</td>\n",
              "      <td>capitalized</td>\n",
              "      <td>Thousands</td>\n",
              "      <td>O</td>\n",
              "    </tr>\n",
              "    <tr>\n",
              "      <th>1</th>\n",
              "      <td>1</td>\n",
              "      <td>of</td>\n",
              "      <td>demonstr</td>\n",
              "      <td>have</td>\n",
              "      <td>VBP</td>\n",
              "      <td>lowercase</td>\n",
              "      <td>have</td>\n",
              "      <td>NNS</td>\n",
              "      <td>lowercase</td>\n",
              "      <td>demonstrators</td>\n",
              "      <td>IN</td>\n",
              "      <td>O</td>\n",
              "      <td>thousand</td>\n",
              "      <td>NNS</td>\n",
              "      <td>__START1__</td>\n",
              "      <td>__start1__</td>\n",
              "      <td>__START1__</td>\n",
              "      <td>wildcard</td>\n",
              "      <td>__START1__</td>\n",
              "      <td>capitalized</td>\n",
              "      <td>Thousands</td>\n",
              "      <td>1.0</td>\n",
              "      <td>lowercase</td>\n",
              "      <td>of</td>\n",
              "      <td>O</td>\n",
              "    </tr>\n",
              "    <tr>\n",
              "      <th>2</th>\n",
              "      <td>2</td>\n",
              "      <td>demonstr</td>\n",
              "      <td>have</td>\n",
              "      <td>march</td>\n",
              "      <td>VBN</td>\n",
              "      <td>lowercase</td>\n",
              "      <td>marched</td>\n",
              "      <td>VBP</td>\n",
              "      <td>lowercase</td>\n",
              "      <td>have</td>\n",
              "      <td>NNS</td>\n",
              "      <td>O</td>\n",
              "      <td>of</td>\n",
              "      <td>IN</td>\n",
              "      <td>O</td>\n",
              "      <td>thousand</td>\n",
              "      <td>NNS</td>\n",
              "      <td>capitalized</td>\n",
              "      <td>Thousands</td>\n",
              "      <td>lowercase</td>\n",
              "      <td>of</td>\n",
              "      <td>1.0</td>\n",
              "      <td>lowercase</td>\n",
              "      <td>demonstrators</td>\n",
              "      <td>O</td>\n",
              "    </tr>\n",
              "    <tr>\n",
              "      <th>3</th>\n",
              "      <td>3</td>\n",
              "      <td>have</td>\n",
              "      <td>march</td>\n",
              "      <td>through</td>\n",
              "      <td>IN</td>\n",
              "      <td>lowercase</td>\n",
              "      <td>through</td>\n",
              "      <td>VBN</td>\n",
              "      <td>lowercase</td>\n",
              "      <td>marched</td>\n",
              "      <td>VBP</td>\n",
              "      <td>O</td>\n",
              "      <td>demonstr</td>\n",
              "      <td>NNS</td>\n",
              "      <td>O</td>\n",
              "      <td>of</td>\n",
              "      <td>IN</td>\n",
              "      <td>lowercase</td>\n",
              "      <td>of</td>\n",
              "      <td>lowercase</td>\n",
              "      <td>demonstrators</td>\n",
              "      <td>1.0</td>\n",
              "      <td>lowercase</td>\n",
              "      <td>have</td>\n",
              "      <td>O</td>\n",
              "    </tr>\n",
              "    <tr>\n",
              "      <th>4</th>\n",
              "      <td>4</td>\n",
              "      <td>march</td>\n",
              "      <td>through</td>\n",
              "      <td>london</td>\n",
              "      <td>NNP</td>\n",
              "      <td>capitalized</td>\n",
              "      <td>London</td>\n",
              "      <td>IN</td>\n",
              "      <td>lowercase</td>\n",
              "      <td>through</td>\n",
              "      <td>VBN</td>\n",
              "      <td>O</td>\n",
              "      <td>have</td>\n",
              "      <td>VBP</td>\n",
              "      <td>O</td>\n",
              "      <td>demonstr</td>\n",
              "      <td>NNS</td>\n",
              "      <td>lowercase</td>\n",
              "      <td>demonstrators</td>\n",
              "      <td>lowercase</td>\n",
              "      <td>have</td>\n",
              "      <td>1.0</td>\n",
              "      <td>lowercase</td>\n",
              "      <td>marched</td>\n",
              "      <td>O</td>\n",
              "    </tr>\n",
              "  </tbody>\n",
              "</table>\n",
              "</div>"
            ],
            "text/plain": [
              "   Unnamed: 0     lemma next-lemma  ...        shape           word tag\n",
              "0           0  thousand         of  ...  capitalized      Thousands   O\n",
              "1           1        of   demonstr  ...    lowercase             of   O\n",
              "2           2  demonstr       have  ...    lowercase  demonstrators   O\n",
              "3           3      have      march  ...    lowercase           have   O\n",
              "4           4     march    through  ...    lowercase        marched   O\n",
              "\n",
              "[5 rows x 25 columns]"
            ]
          },
          "metadata": {
            "tags": []
          },
          "execution_count": 5
        }
      ]
    },
    {
      "cell_type": "markdown",
      "metadata": {
        "id": "UVFUKjHeZUZx"
      },
      "source": [
        "**For converting dataset into required form**"
      ]
    },
    {
      "cell_type": "code",
      "metadata": {
        "id": "jmhUpLngZY3p",
        "outputId": "82759cd9-f907-44d9-fde8-7e3b023a4676",
        "colab": {
          "base_uri": "https://localhost:8080/",
          "height": 204
        }
      },
      "source": [
        "dataset=df.drop(['Unnamed: 0', 'lemma', 'next-lemma', 'next-next-lemma', 'next-next-pos',\n",
        "       'next-next-shape', 'next-next-word', 'next-pos', 'next-shape',\n",
        "       'next-word', 'prev-iob', 'prev-lemma', 'prev-pos',\n",
        "       'prev-prev-iob', 'prev-prev-lemma', 'prev-prev-pos', 'prev-prev-shape',\n",
        "       'prev-prev-word', 'prev-shape', 'prev-word','shape'],axis=1)\n",
        "dataset.head()\n"
      ],
      "execution_count": 6,
      "outputs": [
        {
          "output_type": "execute_result",
          "data": {
            "text/html": [
              "<div>\n",
              "<style scoped>\n",
              "    .dataframe tbody tr th:only-of-type {\n",
              "        vertical-align: middle;\n",
              "    }\n",
              "\n",
              "    .dataframe tbody tr th {\n",
              "        vertical-align: top;\n",
              "    }\n",
              "\n",
              "    .dataframe thead th {\n",
              "        text-align: right;\n",
              "    }\n",
              "</style>\n",
              "<table border=\"1\" class=\"dataframe\">\n",
              "  <thead>\n",
              "    <tr style=\"text-align: right;\">\n",
              "      <th></th>\n",
              "      <th>pos</th>\n",
              "      <th>sentence_idx</th>\n",
              "      <th>word</th>\n",
              "      <th>tag</th>\n",
              "    </tr>\n",
              "  </thead>\n",
              "  <tbody>\n",
              "    <tr>\n",
              "      <th>0</th>\n",
              "      <td>NNS</td>\n",
              "      <td>1.0</td>\n",
              "      <td>Thousands</td>\n",
              "      <td>O</td>\n",
              "    </tr>\n",
              "    <tr>\n",
              "      <th>1</th>\n",
              "      <td>IN</td>\n",
              "      <td>1.0</td>\n",
              "      <td>of</td>\n",
              "      <td>O</td>\n",
              "    </tr>\n",
              "    <tr>\n",
              "      <th>2</th>\n",
              "      <td>NNS</td>\n",
              "      <td>1.0</td>\n",
              "      <td>demonstrators</td>\n",
              "      <td>O</td>\n",
              "    </tr>\n",
              "    <tr>\n",
              "      <th>3</th>\n",
              "      <td>VBP</td>\n",
              "      <td>1.0</td>\n",
              "      <td>have</td>\n",
              "      <td>O</td>\n",
              "    </tr>\n",
              "    <tr>\n",
              "      <th>4</th>\n",
              "      <td>VBN</td>\n",
              "      <td>1.0</td>\n",
              "      <td>marched</td>\n",
              "      <td>O</td>\n",
              "    </tr>\n",
              "  </tbody>\n",
              "</table>\n",
              "</div>"
            ],
            "text/plain": [
              "   pos  sentence_idx           word tag\n",
              "0  NNS           1.0      Thousands   O\n",
              "1   IN           1.0             of   O\n",
              "2  NNS           1.0  demonstrators   O\n",
              "3  VBP           1.0           have   O\n",
              "4  VBN           1.0        marched   O"
            ]
          },
          "metadata": {
            "tags": []
          },
          "execution_count": 6
        }
      ]
    },
    {
      "cell_type": "markdown",
      "metadata": {
        "id": "P6fRCHJyZjsE"
      },
      "source": [
        "**For getting word and tags for training**"
      ]
    },
    {
      "cell_type": "code",
      "metadata": {
        "id": "s6YGK62gskLu"
      },
      "source": [
        "class SentenceGetter(object):\n",
        "    \n",
        "    def __init__(self, dataset):\n",
        "        self.n_sent = 1\n",
        "        self.dataset = dataset\n",
        "        self.empty = False\n",
        "        agg_func = lambda s: [(w, t) for w,t in zip(s[\"word\"].values.tolist(), s[\"tag\"].values.tolist())]\n",
        "        self.grouped = self.dataset.groupby(\"sentence_idx\").apply(agg_func)\n",
        "        self.sentences = [s for s in self.grouped]\n",
        "    \n",
        "    def get_next(self):\n",
        "        try:\n",
        "            s = self.grouped[\"Sentence: {}\".format(self.n_sent)]\n",
        "            self.n_sent += 1\n",
        "            return s\n",
        "        except:\n",
        "            return None"
      ],
      "execution_count": 7,
      "outputs": []
    },
    {
      "cell_type": "code",
      "metadata": {
        "id": "4bxj2EJ2sl8r",
        "outputId": "2a83a149-9932-48bb-9ea4-3acf36d2c235",
        "colab": {
          "base_uri": "https://localhost:8080/",
          "height": 1000
        }
      },
      "source": [
        "getter = SentenceGetter(dataset)\n",
        "sentences = getter.sentences\n",
        "sentences[1]"
      ],
      "execution_count": 8,
      "outputs": [
        {
          "output_type": "execute_result",
          "data": {
            "text/plain": [
              "[('Families', 'O'),\n",
              " ('of', 'O'),\n",
              " ('soldiers', 'O'),\n",
              " ('killed', 'O'),\n",
              " ('in', 'O'),\n",
              " ('the', 'O'),\n",
              " ('conflict', 'O'),\n",
              " ('joined', 'O'),\n",
              " ('the', 'O'),\n",
              " ('protesters', 'O'),\n",
              " ('who', 'O'),\n",
              " ('carried', 'O'),\n",
              " ('banners', 'O'),\n",
              " ('with', 'O'),\n",
              " ('such', 'O'),\n",
              " ('slogans', 'O'),\n",
              " ('as', 'O'),\n",
              " ('\"', 'O'),\n",
              " ('Bush', 'B-per'),\n",
              " ('Number', 'O'),\n",
              " ('One', 'O'),\n",
              " ('Terrorist', 'O'),\n",
              " ('\"', 'O'),\n",
              " ('and', 'O'),\n",
              " ('\"', 'O'),\n",
              " ('Stop', 'O'),\n",
              " ('the', 'O'),\n",
              " ('Bombings', 'O'),\n",
              " ('.', 'O'),\n",
              " ('\"', 'O'),\n",
              " ('Families', 'O'),\n",
              " ('of', 'O'),\n",
              " ('soldiers', 'O'),\n",
              " ('killed', 'O'),\n",
              " ('in', 'O'),\n",
              " ('the', 'O'),\n",
              " ('conflict', 'O'),\n",
              " ('joined', 'O'),\n",
              " ('the', 'O'),\n",
              " ('protesters', 'O'),\n",
              " ('who', 'O'),\n",
              " ('carried', 'O'),\n",
              " ('banners', 'O'),\n",
              " ('with', 'O'),\n",
              " ('such', 'O'),\n",
              " ('slogans', 'O'),\n",
              " ('as', 'O'),\n",
              " ('\"', 'O'),\n",
              " ('Bush', 'B-per'),\n",
              " ('Number', 'O'),\n",
              " ('One', 'O'),\n",
              " ('Terrorist', 'O'),\n",
              " ('\"', 'O'),\n",
              " ('and', 'O'),\n",
              " ('\"', 'O'),\n",
              " ('Stop', 'O'),\n",
              " ('the', 'O'),\n",
              " ('Bombings', 'O'),\n",
              " ('.', 'O'),\n",
              " ('\"', 'O')]"
            ]
          },
          "metadata": {
            "tags": []
          },
          "execution_count": 8
        }
      ]
    },
    {
      "cell_type": "markdown",
      "metadata": {
        "id": "4W6NtyGUszPQ"
      },
      "source": [
        "**Getting words**"
      ]
    },
    {
      "cell_type": "code",
      "metadata": {
        "id": "Kmg9Z_qas2CI",
        "outputId": "203f4dea-9dee-4682-8586-1a63e85c8d4a",
        "colab": {
          "base_uri": "https://localhost:8080/",
          "height": 1000
        }
      },
      "source": [
        "sentences = [[s[0].lower() for s in sent] for sent in getter.sentences]\n",
        "sentences[1]\n"
      ],
      "execution_count": 9,
      "outputs": [
        {
          "output_type": "execute_result",
          "data": {
            "text/plain": [
              "['families',\n",
              " 'of',\n",
              " 'soldiers',\n",
              " 'killed',\n",
              " 'in',\n",
              " 'the',\n",
              " 'conflict',\n",
              " 'joined',\n",
              " 'the',\n",
              " 'protesters',\n",
              " 'who',\n",
              " 'carried',\n",
              " 'banners',\n",
              " 'with',\n",
              " 'such',\n",
              " 'slogans',\n",
              " 'as',\n",
              " '\"',\n",
              " 'bush',\n",
              " 'number',\n",
              " 'one',\n",
              " 'terrorist',\n",
              " '\"',\n",
              " 'and',\n",
              " '\"',\n",
              " 'stop',\n",
              " 'the',\n",
              " 'bombings',\n",
              " '.',\n",
              " '\"',\n",
              " 'families',\n",
              " 'of',\n",
              " 'soldiers',\n",
              " 'killed',\n",
              " 'in',\n",
              " 'the',\n",
              " 'conflict',\n",
              " 'joined',\n",
              " 'the',\n",
              " 'protesters',\n",
              " 'who',\n",
              " 'carried',\n",
              " 'banners',\n",
              " 'with',\n",
              " 'such',\n",
              " 'slogans',\n",
              " 'as',\n",
              " '\"',\n",
              " 'bush',\n",
              " 'number',\n",
              " 'one',\n",
              " 'terrorist',\n",
              " '\"',\n",
              " 'and',\n",
              " '\"',\n",
              " 'stop',\n",
              " 'the',\n",
              " 'bombings',\n",
              " '.',\n",
              " '\"']"
            ]
          },
          "metadata": {
            "tags": []
          },
          "execution_count": 9
        }
      ]
    },
    {
      "cell_type": "markdown",
      "metadata": {
        "id": "War68UGUs_Nc"
      },
      "source": [
        "**Getting tags or labels**"
      ]
    },
    {
      "cell_type": "code",
      "metadata": {
        "id": "cJLeEUYntBHU",
        "outputId": "05a1035e-2cdd-462a-b85d-c18f3eb88a39",
        "colab": {
          "base_uri": "https://localhost:8080/",
          "height": 54
        }
      },
      "source": [
        "\n",
        "labels = [[s[1] for s in sent] for sent in getter.sentences]\n",
        "print(labels[1])"
      ],
      "execution_count": 10,
      "outputs": [
        {
          "output_type": "stream",
          "text": [
            "['O', 'O', 'O', 'O', 'O', 'O', 'O', 'O', 'O', 'O', 'O', 'O', 'O', 'O', 'O', 'O', 'O', 'O', 'B-per', 'O', 'O', 'O', 'O', 'O', 'O', 'O', 'O', 'O', 'O', 'O', 'O', 'O', 'O', 'O', 'O', 'O', 'O', 'O', 'O', 'O', 'O', 'O', 'O', 'O', 'O', 'O', 'O', 'O', 'B-per', 'O', 'O', 'O', 'O', 'O', 'O', 'O', 'O', 'O', 'O', 'O']\n"
          ],
          "name": "stdout"
        }
      ]
    },
    {
      "cell_type": "markdown",
      "metadata": {
        "id": "QsK3oJV6tI-q"
      },
      "source": [
        "**Word embedding**"
      ]
    },
    {
      "cell_type": "code",
      "metadata": {
        "id": "YTeenBOwtF5J",
        "outputId": "66f24dd6-4506-4a56-d28f-9b3669f18c65",
        "colab": {
          "base_uri": "https://localhost:8080/",
          "height": 34
        }
      },
      "source": [
        "\n",
        "maxlen = max([len(s) for s in sentences])\n",
        "print ('Maximum sequence length:', maxlen)"
      ],
      "execution_count": 11,
      "outputs": [
        {
          "output_type": "stream",
          "text": [
            "Maximum sequence length: 140\n"
          ],
          "name": "stdout"
        }
      ]
    },
    {
      "cell_type": "code",
      "metadata": {
        "id": "VCYms63ItSpJ"
      },
      "source": [
        "# Check how long sentences are so that we can pad them\n",
        "import matplotlib.pyplot as plt\n",
        "%matplotlib inline\n",
        "plt.style.use(\"ggplot\")"
      ],
      "execution_count": 12,
      "outputs": []
    },
    {
      "cell_type": "code",
      "metadata": {
        "id": "0RrBUTeAtXPN",
        "outputId": "ed27e64e-007e-4d97-cafc-3cd1c0505ad8",
        "colab": {
          "base_uri": "https://localhost:8080/",
          "height": 265
        }
      },
      "source": [
        "plt.hist([len(s) for s in sentences], bins=50)\n",
        "plt.show()"
      ],
      "execution_count": 13,
      "outputs": [
        {
          "output_type": "display_data",
          "data": {
            "image/png": "[encoded data removed]",
            "text/plain": [
              "<Figure size 432x288 with 1 Axes>"
            ]
          },
          "metadata": {
            "tags": []
          }
        }
      ]
    },
    {
      "cell_type": "code",
      "metadata": {
        "id": "KoG3KN7HtmQr",
        "outputId": "dc68d4f2-76b4-4da0-b6cb-270e8e81c542",
        "colab": {
          "base_uri": "https://localhost:8080/",
          "height": 34
        }
      },
      "source": [
        "words = np.array([x.lower() if isinstance(x, str) else x for x in dataset[\"word\"].values])\n",
        "words = list(set(words))\n",
        "words.append('unk')\n",
        "words.append('pad')\n",
        "n_words = len(words); n_words"
      ],
      "execution_count": 14,
      "outputs": [
        {
          "output_type": "execute_result",
          "data": {
            "text/plain": [
              "27422"
            ]
          },
          "metadata": {
            "tags": []
          },
          "execution_count": 14
        }
      ]
    },
    {
      "cell_type": "code",
      "metadata": {
        "id": "pzQoxmCntriY",
        "outputId": "f0434fd1-6d9b-4077-e8c3-b892e300c724",
        "colab": {
          "base_uri": "https://localhost:8080/",
          "height": 34
        }
      },
      "source": [
        "tags = list(set(dataset[\"tag\"].values))\n",
        "n_tags = len(tags)\n",
        "n_tags"
      ],
      "execution_count": 15,
      "outputs": [
        {
          "output_type": "execute_result",
          "data": {
            "text/plain": [
              "18"
            ]
          },
          "metadata": {
            "tags": []
          },
          "execution_count": 15
        }
      ]
    },
    {
      "cell_type": "code",
      "metadata": {
        "id": "RwaZrBxwtuE_"
      },
      "source": [
        "word2idx = {w: i for i, w in enumerate(words)}\n",
        "tag2idx = {t: i for i, t in enumerate(tags)}"
      ],
      "execution_count": 16,
      "outputs": []
    },
    {
      "cell_type": "code",
      "metadata": {
        "id": "7WQwRADNt3WX",
        "outputId": "325e1f29-c63e-4ac0-d3c4-41a436449fe7",
        "colab": {
          "base_uri": "https://localhost:8080/",
          "height": 323
        }
      },
      "source": [
        "\n",
        "tag2idx"
      ],
      "execution_count": 17,
      "outputs": [
        {
          "output_type": "execute_result",
          "data": {
            "text/plain": [
              "{'B-art': 0,\n",
              " 'B-eve': 9,\n",
              " 'B-geo': 7,\n",
              " 'B-gpe': 16,\n",
              " 'B-nat': 4,\n",
              " 'B-org': 15,\n",
              " 'B-per': 10,\n",
              " 'B-tim': 12,\n",
              " 'I-art': 8,\n",
              " 'I-eve': 13,\n",
              " 'I-geo': 3,\n",
              " 'I-gpe': 6,\n",
              " 'I-nat': 5,\n",
              " 'I-org': 11,\n",
              " 'I-per': 14,\n",
              " 'I-tim': 17,\n",
              " 'O': 2,\n",
              " nan: 1}"
            ]
          },
          "metadata": {
            "tags": []
          },
          "execution_count": 17
        }
      ]
    },
    {
      "cell_type": "code",
      "metadata": {
        "id": "nd29PLIiuCCO",
        "outputId": "336dd902-ae23-4d61-f7b5-0023c729e6db",
        "colab": {
          "base_uri": "https://localhost:8080/",
          "height": 34
        }
      },
      "source": [
        "\n",
        "word2idx['unk']"
      ],
      "execution_count": 18,
      "outputs": [
        {
          "output_type": "execute_result",
          "data": {
            "text/plain": [
              "27420"
            ]
          },
          "metadata": {
            "tags": []
          },
          "execution_count": 18
        }
      ]
    },
    {
      "cell_type": "markdown",
      "metadata": {
        "id": "tf2jpvIruG0n"
      },
      "source": [
        "**X & y (features and labels)**"
      ]
    },
    {
      "cell_type": "code",
      "metadata": {
        "id": "JDILUoxluGZ7",
        "outputId": "41ae7a47-9aea-4ff7-d0d5-f989ac7a2d73",
        "colab": {
          "base_uri": "https://localhost:8080/",
          "height": 1000
        }
      },
      "source": [
        "X = [[word2idx.get(w,'27420') for w in s] for s in sentences]\n",
        "X[1]"
      ],
      "execution_count": 19,
      "outputs": [
        {
          "output_type": "execute_result",
          "data": {
            "text/plain": [
              "[17134,\n",
              " 21778,\n",
              " 25644,\n",
              " 23697,\n",
              " 6725,\n",
              " 22189,\n",
              " 8208,\n",
              " 10181,\n",
              " 22189,\n",
              " 25089,\n",
              " 4614,\n",
              " 12785,\n",
              " 4266,\n",
              " 23456,\n",
              " 481,\n",
              " 12708,\n",
              " 3097,\n",
              " 735,\n",
              " 4700,\n",
              " 12638,\n",
              " 8336,\n",
              " 7920,\n",
              " 735,\n",
              " 8322,\n",
              " 735,\n",
              " 26316,\n",
              " 22189,\n",
              " 19703,\n",
              " 3288,\n",
              " 735,\n",
              " 17134,\n",
              " 21778,\n",
              " 25644,\n",
              " 23697,\n",
              " 6725,\n",
              " 22189,\n",
              " 8208,\n",
              " 10181,\n",
              " 22189,\n",
              " 25089,\n",
              " 4614,\n",
              " 12785,\n",
              " 4266,\n",
              " 23456,\n",
              " 481,\n",
              " 12708,\n",
              " 3097,\n",
              " 735,\n",
              " 4700,\n",
              " 12638,\n",
              " 8336,\n",
              " 7920,\n",
              " 735,\n",
              " 8322,\n",
              " 735,\n",
              " 26316,\n",
              " 22189,\n",
              " 19703,\n",
              " 3288,\n",
              " 735]"
            ]
          },
          "metadata": {
            "tags": []
          },
          "execution_count": 19
        }
      ]
    },
    {
      "cell_type": "code",
      "metadata": {
        "id": "WFOKeb67uZQR",
        "outputId": "4303909b-c435-4221-bd66-0e7282b0a199",
        "colab": {
          "base_uri": "https://localhost:8080/",
          "height": 1000
        }
      },
      "source": [
        "y = [[tag2idx.get(l) for l in lab] for lab in labels]\n",
        "y[1]"
      ],
      "execution_count": 20,
      "outputs": [
        {
          "output_type": "execute_result",
          "data": {
            "text/plain": [
              "[2,\n",
              " 2,\n",
              " 2,\n",
              " 2,\n",
              " 2,\n",
              " 2,\n",
              " 2,\n",
              " 2,\n",
              " 2,\n",
              " 2,\n",
              " 2,\n",
              " 2,\n",
              " 2,\n",
              " 2,\n",
              " 2,\n",
              " 2,\n",
              " 2,\n",
              " 2,\n",
              " 10,\n",
              " 2,\n",
              " 2,\n",
              " 2,\n",
              " 2,\n",
              " 2,\n",
              " 2,\n",
              " 2,\n",
              " 2,\n",
              " 2,\n",
              " 2,\n",
              " 2,\n",
              " 2,\n",
              " 2,\n",
              " 2,\n",
              " 2,\n",
              " 2,\n",
              " 2,\n",
              " 2,\n",
              " 2,\n",
              " 2,\n",
              " 2,\n",
              " 2,\n",
              " 2,\n",
              " 2,\n",
              " 2,\n",
              " 2,\n",
              " 2,\n",
              " 2,\n",
              " 2,\n",
              " 10,\n",
              " 2,\n",
              " 2,\n",
              " 2,\n",
              " 2,\n",
              " 2,\n",
              " 2,\n",
              " 2,\n",
              " 2,\n",
              " 2,\n",
              " 2,\n",
              " 2]"
            ]
          },
          "metadata": {
            "tags": []
          },
          "execution_count": 20
        }
      ]
    },
    {
      "cell_type": "code",
      "metadata": {
        "id": "HBNLUG03ubnT"
      },
      "source": [
        "X = pad_sequences(maxlen=140, sequences=X, padding=\"post\", value=n_words-1)"
      ],
      "execution_count": 21,
      "outputs": []
    },
    {
      "cell_type": "code",
      "metadata": {
        "id": "nZ74Dg2_uh3u",
        "outputId": "97addb43-e156-4905-ef97-da11b24445d1",
        "colab": {
          "base_uri": "https://localhost:8080/",
          "height": 34
        }
      },
      "source": [
        "word2idx['pad'], n_words-1"
      ],
      "execution_count": 22,
      "outputs": [
        {
          "output_type": "execute_result",
          "data": {
            "text/plain": [
              "(27421, 27421)"
            ]
          },
          "metadata": {
            "tags": []
          },
          "execution_count": 22
        }
      ]
    },
    {
      "cell_type": "code",
      "metadata": {
        "id": "m2CkvgN3unFJ"
      },
      "source": [
        "y = pad_sequences(maxlen=140, sequences=y, padding=\"post\", value=tag2idx[\"O\"])"
      ],
      "execution_count": 23,
      "outputs": []
    },
    {
      "cell_type": "code",
      "metadata": {
        "id": "xK9XLpWiurhx",
        "outputId": "beaa4e38-baa0-4977-d5c2-e41392302328",
        "colab": {
          "base_uri": "https://localhost:8080/",
          "height": 170
        }
      },
      "source": [
        "y[1]"
      ],
      "execution_count": 24,
      "outputs": [
        {
          "output_type": "execute_result",
          "data": {
            "text/plain": [
              "array([ 2,  2,  2,  2,  2,  2,  2,  2,  2,  2,  2,  2,  2,  2,  2,  2,  2,\n",
              "        2, 10,  2,  2,  2,  2,  2,  2,  2,  2,  2,  2,  2,  2,  2,  2,  2,\n",
              "        2,  2,  2,  2,  2,  2,  2,  2,  2,  2,  2,  2,  2,  2, 10,  2,  2,\n",
              "        2,  2,  2,  2,  2,  2,  2,  2,  2,  2,  2,  2,  2,  2,  2,  2,  2,\n",
              "        2,  2,  2,  2,  2,  2,  2,  2,  2,  2,  2,  2,  2,  2,  2,  2,  2,\n",
              "        2,  2,  2,  2,  2,  2,  2,  2,  2,  2,  2,  2,  2,  2,  2,  2,  2,\n",
              "        2,  2,  2,  2,  2,  2,  2,  2,  2,  2,  2,  2,  2,  2,  2,  2,  2,\n",
              "        2,  2,  2,  2,  2,  2,  2,  2,  2,  2,  2,  2,  2,  2,  2,  2,  2,\n",
              "        2,  2,  2,  2], dtype=int32)"
            ]
          },
          "metadata": {
            "tags": []
          },
          "execution_count": 24
        }
      ]
    },
    {
      "cell_type": "code",
      "metadata": {
        "id": "iYxmsnRQuzEA",
        "outputId": "876200a7-ae1f-4144-d7c2-9540084642a8",
        "colab": {
          "base_uri": "https://localhost:8080/",
          "height": 289
        }
      },
      "source": [
        "X[1]"
      ],
      "execution_count": 25,
      "outputs": [
        {
          "output_type": "execute_result",
          "data": {
            "text/plain": [
              "array([17134, 21778, 25644, 23697,  6725, 22189,  8208, 10181, 22189,\n",
              "       25089,  4614, 12785,  4266, 23456,   481, 12708,  3097,   735,\n",
              "        4700, 12638,  8336,  7920,   735,  8322,   735, 26316, 22189,\n",
              "       19703,  3288,   735, 17134, 21778, 25644, 23697,  6725, 22189,\n",
              "        8208, 10181, 22189, 25089,  4614, 12785,  4266, 23456,   481,\n",
              "       12708,  3097,   735,  4700, 12638,  8336,  7920,   735,  8322,\n",
              "         735, 26316, 22189, 19703,  3288,   735, 27421, 27421, 27421,\n",
              "       27421, 27421, 27421, 27421, 27421, 27421, 27421, 27421, 27421,\n",
              "       27421, 27421, 27421, 27421, 27421, 27421, 27421, 27421, 27421,\n",
              "       27421, 27421, 27421, 27421, 27421, 27421, 27421, 27421, 27421,\n",
              "       27421, 27421, 27421, 27421, 27421, 27421, 27421, 27421, 27421,\n",
              "       27421, 27421, 27421, 27421, 27421, 27421, 27421, 27421, 27421,\n",
              "       27421, 27421, 27421, 27421, 27421, 27421, 27421, 27421, 27421,\n",
              "       27421, 27421, 27421, 27421, 27421, 27421, 27421, 27421, 27421,\n",
              "       27421, 27421, 27421, 27421, 27421, 27421, 27421, 27421, 27421,\n",
              "       27421, 27421, 27421, 27421, 27421], dtype=int32)"
            ]
          },
          "metadata": {
            "tags": []
          },
          "execution_count": 25
        }
      ]
    },
    {
      "cell_type": "markdown",
      "metadata": {
        "id": "a_2BJOVVu_1c"
      },
      "source": [
        "**Data preperation for training**"
      ]
    },
    {
      "cell_type": "code",
      "metadata": {
        "id": "FkVPYVyLu4Vs"
      },
      "source": [
        "from sklearn.model_selection import train_test_split\n",
        "X_train, X_test, y_train, y_test = train_test_split(X, y, test_size=0.20, random_state=0)"
      ],
      "execution_count": 26,
      "outputs": []
    },
    {
      "cell_type": "code",
      "metadata": {
        "id": "PqP9zSSlvIDg",
        "outputId": "9f3512cc-acdf-4fc5-8c9a-aaebf9fafc10",
        "colab": {
          "base_uri": "https://localhost:8080/",
          "height": 34
        }
      },
      "source": [
        "y_train = keras.utils.to_categorical(y_train)\n",
        "print(X_train.shape, y_train.shape)"
      ],
      "execution_count": 27,
      "outputs": [
        {
          "output_type": "stream",
          "text": [
            "(28141, 140) (28141, 140, 18)\n"
          ],
          "name": "stdout"
        }
      ]
    },
    {
      "cell_type": "markdown",
      "metadata": {
        "id": "82V2sfPOvQMm"
      },
      "source": [
        "**Bidirectional LSTM model preperation and training**"
      ]
    },
    {
      "cell_type": "code",
      "metadata": {
        "id": "uee8V89jvTPk",
        "outputId": "c2417422-423c-4ce4-f008-3c6c2315b62d",
        "colab": {
          "base_uri": "https://localhost:8080/",
          "height": 204
        }
      },
      "source": [
        "model = Sequential()\n",
        "\n",
        "model.add(Embedding(n_words, 50))\n",
        "model.add(Bidirectional(LSTM(140, return_sequences=True)))\n",
        "model.add(Bidirectional(LSTM(140, return_sequences=True)))\n",
        "model.add(TimeDistributed(Dense(n_tags, activation=\"softmax\")))\n",
        "model.compile(optimizer=\"adam\", loss=\"categorical_crossentropy\", metrics=[\"accuracy\"])\n",
        "model.fit(X_train, y_train, batch_size=150, epochs=5, verbose=1, validation_split=0.2)"
      ],
      "execution_count": 28,
      "outputs": [
        {
          "output_type": "stream",
          "text": [
            "Epoch 1/5\n",
            "151/151 [==============================] - 461s 3s/step - loss: 0.2538 - accuracy: 0.9612 - val_loss: 0.1396 - val_accuracy: 0.9674\n",
            "Epoch 2/5\n",
            "151/151 [==============================] - 454s 3s/step - loss: 0.0981 - accuracy: 0.9723 - val_loss: 0.0771 - val_accuracy: 0.9759\n",
            "Epoch 3/5\n",
            "151/151 [==============================] - 456s 3s/step - loss: 0.0641 - accuracy: 0.9801 - val_loss: 0.0609 - val_accuracy: 0.9821\n",
            "Epoch 4/5\n",
            "151/151 [==============================] - 456s 3s/step - loss: 0.0482 - accuracy: 0.9862 - val_loss: 0.0513 - val_accuracy: 0.9863\n",
            "Epoch 5/5\n",
            "151/151 [==============================] - 453s 3s/step - loss: 0.0362 - accuracy: 0.9900 - val_loss: 0.0426 - val_accuracy: 0.9883\n"
          ],
          "name": "stdout"
        },
        {
          "output_type": "execute_result",
          "data": {
            "text/plain": [
              "<tensorflow.python.keras.callbacks.History at 0x7fdb61665550>"
            ]
          },
          "metadata": {
            "tags": []
          },
          "execution_count": 28
        }
      ]
    },
    {
      "cell_type": "code",
      "metadata": {
        "id": "0ACIqhUEXVoB"
      },
      "source": [
        "pred = model.predict(X_test)"
      ],
      "execution_count": 29,
      "outputs": []
    },
    {
      "cell_type": "markdown",
      "metadata": {
        "id": "IVrgiyazYMK-"
      },
      "source": [
        "**Visualizing test results**\n"
      ]
    },
    {
      "cell_type": "code",
      "metadata": {
        "id": "dLMnvu_dYPUi",
        "outputId": "8a007302-2c45-4560-8c33-7483c44f3663",
        "colab": {
          "base_uri": "https://localhost:8080/",
          "height": 1000
        }
      },
      "source": [
        "i = 5\n",
        "p = model.predict(np.array([X_test[i]]))\n",
        "p = np.argmax(p, axis=-1)\n",
        "print(\"{:14} ({:5}): {}\".format(\"Word\", \"True\", \"Pred\"))\n",
        "for w,pred in zip(X_test[i],p[0]):\n",
        "    print(\"{:14}: {}\".format(words[w],tags[pred]))\n"
      ],
      "execution_count": 30,
      "outputs": [
        {
          "output_type": "stream",
          "text": [
            "Word           (True ): Pred\n",
            "the           : O\n",
            "u.s.          : B-geo\n",
            "official      : O\n",
            "stressed      : O\n",
            "the           : O\n",
            "only          : O\n",
            "way           : O\n",
            "to            : O\n",
            "successfully  : O\n",
            "counter       : O\n",
            "the           : O\n",
            "threat        : O\n",
            "is            : O\n",
            "to            : O\n",
            "learn         : O\n",
            "to            : O\n",
            "work          : O\n",
            "effectively   : O\n",
            "together      : O\n",
            ".             : O\n",
            "the           : O\n",
            "u.s.          : B-geo\n",
            "official      : O\n",
            "stressed      : O\n",
            "the           : O\n",
            "only          : O\n",
            "way           : O\n",
            "to            : O\n",
            "successfully  : O\n",
            "counter       : O\n",
            "the           : O\n",
            "threat        : O\n",
            "is            : O\n",
            "to            : O\n",
            "learn         : O\n",
            "to            : O\n",
            "work          : O\n",
            "effectively   : O\n",
            "together      : O\n",
            ".             : O\n",
            "pad           : O\n",
            "pad           : O\n",
            "pad           : O\n",
            "pad           : O\n",
            "pad           : O\n",
            "pad           : O\n",
            "pad           : O\n",
            "pad           : O\n",
            "pad           : O\n",
            "pad           : O\n",
            "pad           : O\n",
            "pad           : O\n",
            "pad           : O\n",
            "pad           : O\n",
            "pad           : O\n",
            "pad           : O\n",
            "pad           : O\n",
            "pad           : O\n",
            "pad           : O\n",
            "pad           : O\n",
            "pad           : O\n",
            "pad           : O\n",
            "pad           : O\n",
            "pad           : O\n",
            "pad           : O\n",
            "pad           : O\n",
            "pad           : O\n",
            "pad           : O\n",
            "pad           : O\n",
            "pad           : O\n",
            "pad           : O\n",
            "pad           : O\n",
            "pad           : O\n",
            "pad           : O\n",
            "pad           : O\n",
            "pad           : O\n",
            "pad           : O\n",
            "pad           : O\n",
            "pad           : O\n",
            "pad           : O\n",
            "pad           : O\n",
            "pad           : O\n",
            "pad           : O\n",
            "pad           : O\n",
            "pad           : O\n",
            "pad           : O\n",
            "pad           : O\n",
            "pad           : O\n",
            "pad           : O\n",
            "pad           : O\n",
            "pad           : O\n",
            "pad           : O\n",
            "pad           : O\n",
            "pad           : O\n",
            "pad           : O\n",
            "pad           : O\n",
            "pad           : O\n",
            "pad           : O\n",
            "pad           : O\n",
            "pad           : O\n",
            "pad           : O\n",
            "pad           : O\n",
            "pad           : O\n",
            "pad           : O\n",
            "pad           : O\n",
            "pad           : O\n",
            "pad           : O\n",
            "pad           : O\n",
            "pad           : O\n",
            "pad           : O\n",
            "pad           : O\n",
            "pad           : O\n",
            "pad           : O\n",
            "pad           : O\n",
            "pad           : O\n",
            "pad           : O\n",
            "pad           : O\n",
            "pad           : O\n",
            "pad           : O\n",
            "pad           : O\n",
            "pad           : O\n",
            "pad           : O\n",
            "pad           : O\n",
            "pad           : O\n",
            "pad           : O\n",
            "pad           : O\n",
            "pad           : O\n",
            "pad           : O\n",
            "pad           : O\n",
            "pad           : O\n",
            "pad           : O\n",
            "pad           : O\n",
            "pad           : O\n",
            "pad           : O\n",
            "pad           : O\n",
            "pad           : O\n",
            "pad           : O\n",
            "pad           : O\n",
            "pad           : O\n",
            "pad           : O\n"
          ],
          "name": "stdout"
        }
      ]
    },
    {
      "cell_type": "code",
      "metadata": {
        "id": "QmopYBrMYn2T",
        "outputId": "dcfa7316-47ad-4f2c-ac12-0b6560fbc8ef",
        "colab": {
          "base_uri": "https://localhost:8080/",
          "height": 289
        }
      },
      "source": [
        "model.summary()"
      ],
      "execution_count": 31,
      "outputs": [
        {
          "output_type": "stream",
          "text": [
            "Model: \"sequential\"\n",
            "_________________________________________________________________\n",
            "Layer (type)                 Output Shape              Param #   \n",
            "=================================================================\n",
            "embedding (Embedding)        (None, None, 50)          1371100   \n",
            "_________________________________________________________________\n",
            "bidirectional (Bidirectional (None, None, 280)         213920    \n",
            "_________________________________________________________________\n",
            "bidirectional_1 (Bidirection (None, None, 280)         471520    \n",
            "_________________________________________________________________\n",
            "time_distributed (TimeDistri (None, None, 18)          5058      \n",
            "=================================================================\n",
            "Total params: 2,061,598\n",
            "Trainable params: 2,061,598\n",
            "Non-trainable params: 0\n",
            "_________________________________________________________________\n"
          ],
          "name": "stdout"
        }
      ]
    }
  ]
}